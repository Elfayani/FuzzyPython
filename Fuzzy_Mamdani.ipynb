{
 "cells": [
  {
   "cell_type": "code",
   "execution_count": 1,
   "metadata": {},
   "outputs": [],
   "source": [
    "from simpful import *"
   ]
  },
  {
   "cell_type": "code",
   "execution_count": 51,
   "metadata": {},
   "outputs": [
    {
     "name": "stdout",
     "output_type": "stream",
     "text": [
      "  ____  __  _  _  ____  ____  _  _  __   \n",
      " / ___)(  )( \\/ )(  _ \\(  __)/ )( \\(  ) v2.4.5 \n",
      " \\___ \\ )( / \\/ \\ ) __/ ) _) ) \\/ (/ (_/\\ \n",
      " (____/(__)\\_)(_/(__)  (__)  \\____/\\____/\n",
      "\n",
      " Created by Marco S. Nobile (m.s.nobile@tue.nl)\n",
      " and Simone Spolaor (simone.spolaor@unimib.it)\n",
      "\n"
     ]
    }
   ],
   "source": [
    "#Create fuzzy system object\n",
    "fs=FuzzySystem()"
   ]
  },
  {
   "cell_type": "code",
   "execution_count": 60,
   "metadata": {},
   "outputs": [],
   "source": [
    "#Define fuzzy sets and linguistic variabel\n",
    "#input\n",
    "permintaan_1=FuzzySet(function=Trapezoidal_MF(a=0,b=0,c=1000,d=5000),term=\"Turun\")\n",
    "permintaan_2=FuzzySet(function=Trapezoidal_MF(a=1000,b=5000,c=6000,d=6000),term=\"Naik\")\n",
    "fs.add_linguistic_variable(\"Permintaan\",LinguisticVariable([permintaan_1,permintaan_2],universe_of_discourse=[0,6000]))\n",
    "\n",
    "persediaan_1=FuzzySet(function=Trapezoidal_MF(a=0,b=0,c=100,d=600),term=\"Sedikit\")\n",
    "persediaan_2=FuzzySet(function=Trapezoidal_MF(a=100,b=600,c=700,d=700),term=\"Banyak\")\n",
    "fs.add_linguistic_variable(\"Persediaan\",LinguisticVariable([persediaan_1,persediaan_2],universe_of_discourse=[0,700]))"
   ]
  },
  {
   "cell_type": "code",
   "execution_count": 61,
   "metadata": {},
   "outputs": [],
   "source": [
    "#Define output\n",
    "produksi_1=FuzzySet(function=Trapezoidal_MF(a=0,b=0,c=2000,d=7000),term=\"Berkurang\")\n",
    "produksi_2=FuzzySet(function=Trapezoidal_MF(a=2000,b=7000,c=8000,d=8000),term=\"Bertambah\")\n",
    "fs.add_linguistic_variable(\"Produksi\",LinguisticVariable([produksi_1,produksi_2],universe_of_discourse=[0,8000]))\n"
   ]
  },
  {
   "cell_type": "code",
   "execution_count": 54,
   "metadata": {},
   "outputs": [],
   "source": [
    "#Define fuzzy rules\n",
    "r1=\"IF(Permintaan IS Turun) OR (Persediaan IS Sedikit) THEN (Produksi IS Berkurang)\"\n",
    "r2=\"IF(Permintaan IS Turun) OR (Persediaan IS Banyak) THEN (Produksi IS Berkurang)\"\n",
    "r3=\"IF(Permintaan IS Naik) OR (Persediaan IS Sedikit) THEN (Produksi IS Bertambah)\"\n",
    "r4=\"IF(Permintaan IS Naik) OR (Persediaan IS Banyak) THEN (Produksi IS Bertambah)\"\n",
    "fs.add_rules([r1,r2,r3,r4])"
   ]
  },
  {
   "cell_type": "code",
   "execution_count": 55,
   "metadata": {},
   "outputs": [],
   "source": [
    "#set antecedents\n",
    "fs.set_variable(\"Permintaan\",4000)\n",
    "fs.set_variable(\"Persediaan\",300)"
   ]
  },
  {
   "cell_type": "code",
   "execution_count": 59,
   "metadata": {},
   "outputs": [
    {
     "name": "stdout",
     "output_type": "stream",
     "text": [
      "{'c': 4200.4390366465595}\n"
     ]
    }
   ],
   "source": [
    "#perfome Mamdani\n",
    "print(fs.Mamdani_inference(['Produksi']))"
   ]
  },
  {
   "cell_type": "code",
   "execution_count": null,
   "metadata": {},
   "outputs": [],
   "source": []
  }
 ],
 "metadata": {
  "kernelspec": {
   "display_name": "Python 3",
   "language": "python",
   "name": "python3"
  },
  "language_info": {
   "codemirror_mode": {
    "name": "ipython",
    "version": 3
   },
   "file_extension": ".py",
   "mimetype": "text/x-python",
   "name": "python",
   "nbconvert_exporter": "python",
   "pygments_lexer": "ipython3",
   "version": "3.8.5"
  }
 },
 "nbformat": 4,
 "nbformat_minor": 4
}
